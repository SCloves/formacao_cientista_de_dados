{
 "cells": [
  {
   "cell_type": "markdown",
   "metadata": {},
   "source": [
    "# Amostragem "
   ]
  },
  {
   "cell_type": "markdown",
   "metadata": {},
   "source": [
    "#### Amostra:\n",
    "- parte de uma população, selecionada usando alguma técnica que dê chances iguais a todos elementos da população de serem selecionados."
   ]
  },
  {
   "cell_type": "markdown",
   "metadata": {},
   "source": [
    "#### Conceitos\n",
    "- População: alvo do estudo\n",
    "- Amostra: subconjunto da população\n",
    "- Censo: pesquisa com toda a população."
   ]
  },
  {
   "cell_type": "markdown",
   "metadata": {},
   "source": [
    "#### Por que usar amostragem e não censo?\n",
    "\n",
    "- Pode ser caro ou impossível estudar toda a população (censo)"
   ]
  },
  {
   "cell_type": "markdown",
   "metadata": {},
   "source": [
    "#### É possível inferir sobre uma população usando uma amostra?\n",
    "\n",
    "- Uma amostragem feita corretamente pode representar características similares da população em que foi retirada.\n"
   ]
  },
  {
   "cell_type": "markdown",
   "metadata": {},
   "source": [
    "#### Custo da amostra\n",
    "\n",
    "- Margem de erro e Nível de Confiança\n",
    "- variação\n",
    "- podemos medir a variação esperada"
   ]
  },
  {
   "cell_type": "markdown",
   "metadata": {},
   "source": [
    "#### Principais tipos de amostragem\n",
    "\n",
    "- Aleatória símples\n",
    "- Estratificada [Stratified Sampling](https://www.youtube.com/watch?v=sYRUYJYOpG0)\n",
    "- Sistemática\n",
    "- Por unidade monetária"
   ]
  },
  {
   "cell_type": "markdown",
   "metadata": {
    "collapsed": true
   },
   "source": [
    "#### Funções no R \n",
    "\n",
    "Exemplos de funções usadas para amostragem:\n",
    "\n",
    "sample()\n",
    "\n",
    "strata()\n",
    "\n",
    "s.SY()"
   ]
  },
  {
   "cell_type": "code",
   "execution_count": 3,
   "metadata": {
    "collapsed": false
   },
   "outputs": [
    {
     "data": {
      "text/html": [
       "<table>\n",
       "<thead><tr><th scope=col>Sepal.Length</th><th scope=col>Sepal.Width</th><th scope=col>Petal.Length</th><th scope=col>Petal.Width</th><th scope=col>Species</th></tr></thead>\n",
       "<tbody>\n",
       "\t<tr><td>5.1   </td><td>3.5   </td><td>1.4   </td><td>0.2   </td><td>setosa</td></tr>\n",
       "\t<tr><td>4.9   </td><td>3.0   </td><td>1.4   </td><td>0.2   </td><td>setosa</td></tr>\n",
       "\t<tr><td>4.7   </td><td>3.2   </td><td>1.3   </td><td>0.2   </td><td>setosa</td></tr>\n",
       "\t<tr><td>4.6   </td><td>3.1   </td><td>1.5   </td><td>0.2   </td><td>setosa</td></tr>\n",
       "\t<tr><td>5.0   </td><td>3.6   </td><td>1.4   </td><td>0.2   </td><td>setosa</td></tr>\n",
       "\t<tr><td>5.4   </td><td>3.9   </td><td>1.7   </td><td>0.4   </td><td>setosa</td></tr>\n",
       "</tbody>\n",
       "</table>\n"
      ],
      "text/latex": [
       "\\begin{tabular}{r|lllll}\n",
       " Sepal.Length & Sepal.Width & Petal.Length & Petal.Width & Species\\\\\n",
       "\\hline\n",
       "\t 5.1    & 3.5    & 1.4    & 0.2    & setosa\\\\\n",
       "\t 4.9    & 3.0    & 1.4    & 0.2    & setosa\\\\\n",
       "\t 4.7    & 3.2    & 1.3    & 0.2    & setosa\\\\\n",
       "\t 4.6    & 3.1    & 1.5    & 0.2    & setosa\\\\\n",
       "\t 5.0    & 3.6    & 1.4    & 0.2    & setosa\\\\\n",
       "\t 5.4    & 3.9    & 1.7    & 0.4    & setosa\\\\\n",
       "\\end{tabular}\n"
      ],
      "text/markdown": [
       "\n",
       "Sepal.Length | Sepal.Width | Petal.Length | Petal.Width | Species | \n",
       "|---|---|---|---|---|---|\n",
       "| 5.1    | 3.5    | 1.4    | 0.2    | setosa | \n",
       "| 4.9    | 3.0    | 1.4    | 0.2    | setosa | \n",
       "| 4.7    | 3.2    | 1.3    | 0.2    | setosa | \n",
       "| 4.6    | 3.1    | 1.5    | 0.2    | setosa | \n",
       "| 5.0    | 3.6    | 1.4    | 0.2    | setosa | \n",
       "| 5.4    | 3.9    | 1.7    | 0.4    | setosa | \n",
       "\n",
       "\n"
      ],
      "text/plain": [
       "  Sepal.Length Sepal.Width Petal.Length Petal.Width Species\n",
       "1 5.1          3.5         1.4          0.2         setosa \n",
       "2 4.9          3.0         1.4          0.2         setosa \n",
       "3 4.7          3.2         1.3          0.2         setosa \n",
       "4 4.6          3.1         1.5          0.2         setosa \n",
       "5 5.0          3.6         1.4          0.2         setosa \n",
       "6 5.4          3.9         1.7          0.4         setosa "
      ]
     },
     "metadata": {},
     "output_type": "display_data"
    }
   ],
   "source": [
    "head(iris)"
   ]
  },
  {
   "cell_type": "code",
   "execution_count": 4,
   "metadata": {
    "collapsed": false
   },
   "outputs": [
    {
     "data": {
      "text/html": [
       "<ol class=list-inline>\n",
       "\t<li>150</li>\n",
       "\t<li>5</li>\n",
       "</ol>\n"
      ],
      "text/latex": [
       "\\begin{enumerate*}\n",
       "\\item 150\n",
       "\\item 5\n",
       "\\end{enumerate*}\n"
      ],
      "text/markdown": [
       "1. 150\n",
       "2. 5\n",
       "\n",
       "\n"
      ],
      "text/plain": [
       "[1] 150   5"
      ]
     },
     "metadata": {},
     "output_type": "display_data"
    }
   ],
   "source": [
    "dim(iris)"
   ]
  },
  {
   "cell_type": "code",
   "execution_count": 6,
   "metadata": {
    "collapsed": false
   },
   "outputs": [],
   "source": [
    "amostra = sample(c(0, 1), 150, replace = T, prob = c(.5, .5))"
   ]
  },
  {
   "cell_type": "code",
   "execution_count": 7,
   "metadata": {
    "collapsed": false
   },
   "outputs": [
    {
     "data": {
      "text/html": [
       "<ol class=list-inline>\n",
       "\t<li>0</li>\n",
       "\t<li>0</li>\n",
       "\t<li>1</li>\n",
       "\t<li>0</li>\n",
       "\t<li>1</li>\n",
       "\t<li>1</li>\n",
       "\t<li>0</li>\n",
       "\t<li>1</li>\n",
       "\t<li>0</li>\n",
       "\t<li>1</li>\n",
       "\t<li>0</li>\n",
       "\t<li>1</li>\n",
       "\t<li>1</li>\n",
       "\t<li>0</li>\n",
       "\t<li>0</li>\n",
       "\t<li>1</li>\n",
       "\t<li>0</li>\n",
       "\t<li>1</li>\n",
       "\t<li>1</li>\n",
       "\t<li>1</li>\n",
       "\t<li>0</li>\n",
       "\t<li>0</li>\n",
       "\t<li>1</li>\n",
       "\t<li>0</li>\n",
       "\t<li>0</li>\n",
       "\t<li>0</li>\n",
       "\t<li>1</li>\n",
       "\t<li>0</li>\n",
       "\t<li>1</li>\n",
       "\t<li>1</li>\n",
       "\t<li>1</li>\n",
       "\t<li>0</li>\n",
       "\t<li>1</li>\n",
       "\t<li>0</li>\n",
       "\t<li>0</li>\n",
       "\t<li>0</li>\n",
       "\t<li>1</li>\n",
       "\t<li>1</li>\n",
       "\t<li>1</li>\n",
       "\t<li>0</li>\n",
       "\t<li>0</li>\n",
       "\t<li>0</li>\n",
       "\t<li>0</li>\n",
       "\t<li>1</li>\n",
       "\t<li>0</li>\n",
       "\t<li>1</li>\n",
       "\t<li>1</li>\n",
       "\t<li>0</li>\n",
       "\t<li>1</li>\n",
       "\t<li>1</li>\n",
       "\t<li>0</li>\n",
       "\t<li>1</li>\n",
       "\t<li>0</li>\n",
       "\t<li>1</li>\n",
       "\t<li>1</li>\n",
       "\t<li>0</li>\n",
       "\t<li>0</li>\n",
       "\t<li>0</li>\n",
       "\t<li>1</li>\n",
       "\t<li>0</li>\n",
       "\t<li>0</li>\n",
       "\t<li>0</li>\n",
       "\t<li>0</li>\n",
       "\t<li>0</li>\n",
       "\t<li>0</li>\n",
       "\t<li>0</li>\n",
       "\t<li>1</li>\n",
       "\t<li>1</li>\n",
       "\t<li>0</li>\n",
       "\t<li>0</li>\n",
       "\t<li>0</li>\n",
       "\t<li>1</li>\n",
       "\t<li>0</li>\n",
       "\t<li>1</li>\n",
       "\t<li>1</li>\n",
       "\t<li>0</li>\n",
       "\t<li>0</li>\n",
       "\t<li>0</li>\n",
       "\t<li>1</li>\n",
       "\t<li>1</li>\n",
       "\t<li>0</li>\n",
       "\t<li>0</li>\n",
       "\t<li>1</li>\n",
       "\t<li>0</li>\n",
       "\t<li>1</li>\n",
       "\t<li>1</li>\n",
       "\t<li>0</li>\n",
       "\t<li>1</li>\n",
       "\t<li>0</li>\n",
       "\t<li>1</li>\n",
       "\t<li>1</li>\n",
       "\t<li>0</li>\n",
       "\t<li>1</li>\n",
       "\t<li>0</li>\n",
       "\t<li>1</li>\n",
       "\t<li>0</li>\n",
       "\t<li>0</li>\n",
       "\t<li>1</li>\n",
       "\t<li>1</li>\n",
       "\t<li>1</li>\n",
       "\t<li>1</li>\n",
       "\t<li>1</li>\n",
       "\t<li>0</li>\n",
       "\t<li>1</li>\n",
       "\t<li>1</li>\n",
       "\t<li>1</li>\n",
       "\t<li>0</li>\n",
       "\t<li>1</li>\n",
       "\t<li>1</li>\n",
       "\t<li>0</li>\n",
       "\t<li>0</li>\n",
       "\t<li>0</li>\n",
       "\t<li>0</li>\n",
       "\t<li>1</li>\n",
       "\t<li>1</li>\n",
       "\t<li>1</li>\n",
       "\t<li>0</li>\n",
       "\t<li>1</li>\n",
       "\t<li>0</li>\n",
       "\t<li>0</li>\n",
       "\t<li>0</li>\n",
       "\t<li>1</li>\n",
       "\t<li>0</li>\n",
       "\t<li>1</li>\n",
       "\t<li>1</li>\n",
       "\t<li>1</li>\n",
       "\t<li>0</li>\n",
       "\t<li>1</li>\n",
       "\t<li>0</li>\n",
       "\t<li>1</li>\n",
       "\t<li>0</li>\n",
       "\t<li>0</li>\n",
       "\t<li>0</li>\n",
       "\t<li>0</li>\n",
       "\t<li>1</li>\n",
       "\t<li>1</li>\n",
       "\t<li>0</li>\n",
       "\t<li>1</li>\n",
       "\t<li>1</li>\n",
       "\t<li>0</li>\n",
       "\t<li>1</li>\n",
       "\t<li>0</li>\n",
       "\t<li>1</li>\n",
       "\t<li>1</li>\n",
       "\t<li>0</li>\n",
       "\t<li>1</li>\n",
       "\t<li>1</li>\n",
       "\t<li>0</li>\n",
       "\t<li>1</li>\n",
       "\t<li>1</li>\n",
       "</ol>\n"
      ],
      "text/latex": [
       "\\begin{enumerate*}\n",
       "\\item 0\n",
       "\\item 0\n",
       "\\item 1\n",
       "\\item 0\n",
       "\\item 1\n",
       "\\item 1\n",
       "\\item 0\n",
       "\\item 1\n",
       "\\item 0\n",
       "\\item 1\n",
       "\\item 0\n",
       "\\item 1\n",
       "\\item 1\n",
       "\\item 0\n",
       "\\item 0\n",
       "\\item 1\n",
       "\\item 0\n",
       "\\item 1\n",
       "\\item 1\n",
       "\\item 1\n",
       "\\item 0\n",
       "\\item 0\n",
       "\\item 1\n",
       "\\item 0\n",
       "\\item 0\n",
       "\\item 0\n",
       "\\item 1\n",
       "\\item 0\n",
       "\\item 1\n",
       "\\item 1\n",
       "\\item 1\n",
       "\\item 0\n",
       "\\item 1\n",
       "\\item 0\n",
       "\\item 0\n",
       "\\item 0\n",
       "\\item 1\n",
       "\\item 1\n",
       "\\item 1\n",
       "\\item 0\n",
       "\\item 0\n",
       "\\item 0\n",
       "\\item 0\n",
       "\\item 1\n",
       "\\item 0\n",
       "\\item 1\n",
       "\\item 1\n",
       "\\item 0\n",
       "\\item 1\n",
       "\\item 1\n",
       "\\item 0\n",
       "\\item 1\n",
       "\\item 0\n",
       "\\item 1\n",
       "\\item 1\n",
       "\\item 0\n",
       "\\item 0\n",
       "\\item 0\n",
       "\\item 1\n",
       "\\item 0\n",
       "\\item 0\n",
       "\\item 0\n",
       "\\item 0\n",
       "\\item 0\n",
       "\\item 0\n",
       "\\item 0\n",
       "\\item 1\n",
       "\\item 1\n",
       "\\item 0\n",
       "\\item 0\n",
       "\\item 0\n",
       "\\item 1\n",
       "\\item 0\n",
       "\\item 1\n",
       "\\item 1\n",
       "\\item 0\n",
       "\\item 0\n",
       "\\item 0\n",
       "\\item 1\n",
       "\\item 1\n",
       "\\item 0\n",
       "\\item 0\n",
       "\\item 1\n",
       "\\item 0\n",
       "\\item 1\n",
       "\\item 1\n",
       "\\item 0\n",
       "\\item 1\n",
       "\\item 0\n",
       "\\item 1\n",
       "\\item 1\n",
       "\\item 0\n",
       "\\item 1\n",
       "\\item 0\n",
       "\\item 1\n",
       "\\item 0\n",
       "\\item 0\n",
       "\\item 1\n",
       "\\item 1\n",
       "\\item 1\n",
       "\\item 1\n",
       "\\item 1\n",
       "\\item 0\n",
       "\\item 1\n",
       "\\item 1\n",
       "\\item 1\n",
       "\\item 0\n",
       "\\item 1\n",
       "\\item 1\n",
       "\\item 0\n",
       "\\item 0\n",
       "\\item 0\n",
       "\\item 0\n",
       "\\item 1\n",
       "\\item 1\n",
       "\\item 1\n",
       "\\item 0\n",
       "\\item 1\n",
       "\\item 0\n",
       "\\item 0\n",
       "\\item 0\n",
       "\\item 1\n",
       "\\item 0\n",
       "\\item 1\n",
       "\\item 1\n",
       "\\item 1\n",
       "\\item 0\n",
       "\\item 1\n",
       "\\item 0\n",
       "\\item 1\n",
       "\\item 0\n",
       "\\item 0\n",
       "\\item 0\n",
       "\\item 0\n",
       "\\item 1\n",
       "\\item 1\n",
       "\\item 0\n",
       "\\item 1\n",
       "\\item 1\n",
       "\\item 0\n",
       "\\item 1\n",
       "\\item 0\n",
       "\\item 1\n",
       "\\item 1\n",
       "\\item 0\n",
       "\\item 1\n",
       "\\item 1\n",
       "\\item 0\n",
       "\\item 1\n",
       "\\item 1\n",
       "\\end{enumerate*}\n"
      ],
      "text/markdown": [
       "1. 0\n",
       "2. 0\n",
       "3. 1\n",
       "4. 0\n",
       "5. 1\n",
       "6. 1\n",
       "7. 0\n",
       "8. 1\n",
       "9. 0\n",
       "10. 1\n",
       "11. 0\n",
       "12. 1\n",
       "13. 1\n",
       "14. 0\n",
       "15. 0\n",
       "16. 1\n",
       "17. 0\n",
       "18. 1\n",
       "19. 1\n",
       "20. 1\n",
       "21. 0\n",
       "22. 0\n",
       "23. 1\n",
       "24. 0\n",
       "25. 0\n",
       "26. 0\n",
       "27. 1\n",
       "28. 0\n",
       "29. 1\n",
       "30. 1\n",
       "31. 1\n",
       "32. 0\n",
       "33. 1\n",
       "34. 0\n",
       "35. 0\n",
       "36. 0\n",
       "37. 1\n",
       "38. 1\n",
       "39. 1\n",
       "40. 0\n",
       "41. 0\n",
       "42. 0\n",
       "43. 0\n",
       "44. 1\n",
       "45. 0\n",
       "46. 1\n",
       "47. 1\n",
       "48. 0\n",
       "49. 1\n",
       "50. 1\n",
       "51. 0\n",
       "52. 1\n",
       "53. 0\n",
       "54. 1\n",
       "55. 1\n",
       "56. 0\n",
       "57. 0\n",
       "58. 0\n",
       "59. 1\n",
       "60. 0\n",
       "61. 0\n",
       "62. 0\n",
       "63. 0\n",
       "64. 0\n",
       "65. 0\n",
       "66. 0\n",
       "67. 1\n",
       "68. 1\n",
       "69. 0\n",
       "70. 0\n",
       "71. 0\n",
       "72. 1\n",
       "73. 0\n",
       "74. 1\n",
       "75. 1\n",
       "76. 0\n",
       "77. 0\n",
       "78. 0\n",
       "79. 1\n",
       "80. 1\n",
       "81. 0\n",
       "82. 0\n",
       "83. 1\n",
       "84. 0\n",
       "85. 1\n",
       "86. 1\n",
       "87. 0\n",
       "88. 1\n",
       "89. 0\n",
       "90. 1\n",
       "91. 1\n",
       "92. 0\n",
       "93. 1\n",
       "94. 0\n",
       "95. 1\n",
       "96. 0\n",
       "97. 0\n",
       "98. 1\n",
       "99. 1\n",
       "100. 1\n",
       "101. 1\n",
       "102. 1\n",
       "103. 0\n",
       "104. 1\n",
       "105. 1\n",
       "106. 1\n",
       "107. 0\n",
       "108. 1\n",
       "109. 1\n",
       "110. 0\n",
       "111. 0\n",
       "112. 0\n",
       "113. 0\n",
       "114. 1\n",
       "115. 1\n",
       "116. 1\n",
       "117. 0\n",
       "118. 1\n",
       "119. 0\n",
       "120. 0\n",
       "121. 0\n",
       "122. 1\n",
       "123. 0\n",
       "124. 1\n",
       "125. 1\n",
       "126. 1\n",
       "127. 0\n",
       "128. 1\n",
       "129. 0\n",
       "130. 1\n",
       "131. 0\n",
       "132. 0\n",
       "133. 0\n",
       "134. 0\n",
       "135. 1\n",
       "136. 1\n",
       "137. 0\n",
       "138. 1\n",
       "139. 1\n",
       "140. 0\n",
       "141. 1\n",
       "142. 0\n",
       "143. 1\n",
       "144. 1\n",
       "145. 0\n",
       "146. 1\n",
       "147. 1\n",
       "148. 0\n",
       "149. 1\n",
       "150. 1\n",
       "\n",
       "\n"
      ],
      "text/plain": [
       "  [1] 0 0 1 0 1 1 0 1 0 1 0 1 1 0 0 1 0 1 1 1 0 0 1 0 0 0 1 0 1 1 1 0 1 0 0 0 1\n",
       " [38] 1 1 0 0 0 0 1 0 1 1 0 1 1 0 1 0 1 1 0 0 0 1 0 0 0 0 0 0 0 1 1 0 0 0 1 0 1\n",
       " [75] 1 0 0 0 1 1 0 0 1 0 1 1 0 1 0 1 1 0 1 0 1 0 0 1 1 1 1 1 0 1 1 1 0 1 1 0 0\n",
       "[112] 0 0 1 1 1 0 1 0 0 0 1 0 1 1 1 0 1 0 1 0 0 0 0 1 1 0 1 1 0 1 0 1 1 0 1 1 0\n",
       "[149] 1 1"
      ]
     },
     "metadata": {},
     "output_type": "display_data"
    }
   ],
   "source": [
    "amostra"
   ]
  },
  {
   "cell_type": "code",
   "execution_count": 8,
   "metadata": {
    "collapsed": false
   },
   "outputs": [
    {
     "data": {
      "text/html": [
       "75"
      ],
      "text/latex": [
       "75"
      ],
      "text/markdown": [
       "75"
      ],
      "text/plain": [
       "[1] 75"
      ]
     },
     "metadata": {},
     "output_type": "display_data"
    }
   ],
   "source": [
    "length(amostra[amostra==0])"
   ]
  },
  {
   "cell_type": "code",
   "execution_count": 11,
   "metadata": {
    "collapsed": true
   },
   "outputs": [],
   "source": [
    "library(sampling)"
   ]
  },
  {
   "cell_type": "code",
   "execution_count": 12,
   "metadata": {
    "collapsed": true
   },
   "outputs": [],
   "source": [
    "amostrairis2 = strata(iris, c('Species'), size=c(25, 25, 25), method = 'srswor')"
   ]
  },
  {
   "cell_type": "code",
   "execution_count": 14,
   "metadata": {
    "collapsed": false
   },
   "outputs": [
    {
     "data": {
      "text/html": [
       "<table>\n",
       "<thead><tr><th></th><th scope=col>Species</th><th scope=col>ID_unit</th><th scope=col>Prob</th><th scope=col>Stratum</th></tr></thead>\n",
       "<tbody>\n",
       "\t<tr><th scope=row>2</th><td>setosa</td><td> 2    </td><td>0.5   </td><td>1     </td></tr>\n",
       "\t<tr><th scope=row>3</th><td>setosa</td><td> 3    </td><td>0.5   </td><td>1     </td></tr>\n",
       "\t<tr><th scope=row>4</th><td>setosa</td><td> 4    </td><td>0.5   </td><td>1     </td></tr>\n",
       "\t<tr><th scope=row>8</th><td>setosa</td><td> 8    </td><td>0.5   </td><td>1     </td></tr>\n",
       "\t<tr><th scope=row>13</th><td>setosa</td><td>13    </td><td>0.5   </td><td>1     </td></tr>\n",
       "\t<tr><th scope=row>14</th><td>setosa</td><td>14    </td><td>0.5   </td><td>1     </td></tr>\n",
       "</tbody>\n",
       "</table>\n"
      ],
      "text/latex": [
       "\\begin{tabular}{r|llll}\n",
       "  & Species & ID\\_unit & Prob & Stratum\\\\\n",
       "\\hline\n",
       "\t2 & setosa &  2     & 0.5    & 1     \\\\\n",
       "\t3 & setosa &  3     & 0.5    & 1     \\\\\n",
       "\t4 & setosa &  4     & 0.5    & 1     \\\\\n",
       "\t8 & setosa &  8     & 0.5    & 1     \\\\\n",
       "\t13 & setosa & 13     & 0.5    & 1     \\\\\n",
       "\t14 & setosa & 14     & 0.5    & 1     \\\\\n",
       "\\end{tabular}\n"
      ],
      "text/markdown": [
       "\n",
       "| <!--/--> | Species | ID_unit | Prob | Stratum | \n",
       "|---|---|---|---|---|---|\n",
       "| 2 | setosa |  2     | 0.5    | 1      | \n",
       "| 3 | setosa |  3     | 0.5    | 1      | \n",
       "| 4 | setosa |  4     | 0.5    | 1      | \n",
       "| 8 | setosa |  8     | 0.5    | 1      | \n",
       "| 13 | setosa | 13     | 0.5    | 1      | \n",
       "| 14 | setosa | 14     | 0.5    | 1      | \n",
       "\n",
       "\n"
      ],
      "text/plain": [
       "   Species ID_unit Prob Stratum\n",
       "2  setosa   2      0.5  1      \n",
       "3  setosa   3      0.5  1      \n",
       "4  setosa   4      0.5  1      \n",
       "8  setosa   8      0.5  1      \n",
       "13 setosa  13      0.5  1      \n",
       "14 setosa  14      0.5  1      "
      ]
     },
     "metadata": {},
     "output_type": "display_data"
    }
   ],
   "source": [
    "head(amostrairis2)"
   ]
  },
  {
   "cell_type": "code",
   "execution_count": 15,
   "metadata": {
    "collapsed": false
   },
   "outputs": [
    {
     "data": {
      "text/plain": [
       "       Species      ID_unit            Prob        Stratum \n",
       " setosa    :25   Min.   :  2.00   Min.   :0.5   Min.   :1  \n",
       " versicolor:25   1st Qu.: 36.50   1st Qu.:0.5   1st Qu.:1  \n",
       " virginica :25   Median : 71.00   Median :0.5   Median :2  \n",
       "                 Mean   : 74.23   Mean   :0.5   Mean   :2  \n",
       "                 3rd Qu.:110.50   3rd Qu.:0.5   3rd Qu.:3  \n",
       "                 Max.   :149.00   Max.   :0.5   Max.   :3  "
      ]
     },
     "metadata": {},
     "output_type": "display_data"
    }
   ],
   "source": [
    "summary(amostrairis2)"
   ]
  },
  {
   "cell_type": "code",
   "execution_count": 16,
   "metadata": {
    "collapsed": false
   },
   "outputs": [
    {
     "data": {
      "text/html": [
       "<table>\n",
       "<thead><tr><th scope=col>education</th><th scope=col>age</th><th scope=col>parity</th><th scope=col>induced</th><th scope=col>case</th><th scope=col>spontaneous</th><th scope=col>stratum</th><th scope=col>pooled.stratum</th></tr></thead>\n",
       "<tbody>\n",
       "\t<tr><td>0-5yrs </td><td>26     </td><td>6      </td><td>1      </td><td>1      </td><td>2      </td><td>1      </td><td> 3     </td></tr>\n",
       "\t<tr><td>0-5yrs </td><td>42     </td><td>1      </td><td>1      </td><td>1      </td><td>0      </td><td>2      </td><td> 1     </td></tr>\n",
       "\t<tr><td>0-5yrs </td><td>39     </td><td>6      </td><td>2      </td><td>1      </td><td>0      </td><td>3      </td><td> 4     </td></tr>\n",
       "\t<tr><td>0-5yrs </td><td>34     </td><td>4      </td><td>2      </td><td>1      </td><td>0      </td><td>4      </td><td> 2     </td></tr>\n",
       "\t<tr><td>6-11yrs</td><td>35     </td><td>3      </td><td>1      </td><td>1      </td><td>1      </td><td>5      </td><td>32     </td></tr>\n",
       "\t<tr><td>6-11yrs</td><td>36     </td><td>4      </td><td>2      </td><td>1      </td><td>1      </td><td>6      </td><td>36     </td></tr>\n",
       "</tbody>\n",
       "</table>\n"
      ],
      "text/latex": [
       "\\begin{tabular}{r|llllllll}\n",
       " education & age & parity & induced & case & spontaneous & stratum & pooled.stratum\\\\\n",
       "\\hline\n",
       "\t 0-5yrs  & 26      & 6       & 1       & 1       & 2       & 1       &  3     \\\\\n",
       "\t 0-5yrs  & 42      & 1       & 1       & 1       & 0       & 2       &  1     \\\\\n",
       "\t 0-5yrs  & 39      & 6       & 2       & 1       & 0       & 3       &  4     \\\\\n",
       "\t 0-5yrs  & 34      & 4       & 2       & 1       & 0       & 4       &  2     \\\\\n",
       "\t 6-11yrs & 35      & 3       & 1       & 1       & 1       & 5       & 32     \\\\\n",
       "\t 6-11yrs & 36      & 4       & 2       & 1       & 1       & 6       & 36     \\\\\n",
       "\\end{tabular}\n"
      ],
      "text/markdown": [
       "\n",
       "education | age | parity | induced | case | spontaneous | stratum | pooled.stratum | \n",
       "|---|---|---|---|---|---|\n",
       "| 0-5yrs  | 26      | 6       | 1       | 1       | 2       | 1       |  3      | \n",
       "| 0-5yrs  | 42      | 1       | 1       | 1       | 0       | 2       |  1      | \n",
       "| 0-5yrs  | 39      | 6       | 2       | 1       | 0       | 3       |  4      | \n",
       "| 0-5yrs  | 34      | 4       | 2       | 1       | 0       | 4       |  2      | \n",
       "| 6-11yrs | 35      | 3       | 1       | 1       | 1       | 5       | 32      | \n",
       "| 6-11yrs | 36      | 4       | 2       | 1       | 1       | 6       | 36      | \n",
       "\n",
       "\n"
      ],
      "text/plain": [
       "  education age parity induced case spontaneous stratum pooled.stratum\n",
       "1 0-5yrs    26  6      1       1    2           1        3            \n",
       "2 0-5yrs    42  1      1       1    0           2        1            \n",
       "3 0-5yrs    39  6      2       1    0           3        4            \n",
       "4 0-5yrs    34  4      2       1    0           4        2            \n",
       "5 6-11yrs   35  3      1       1    1           5       32            \n",
       "6 6-11yrs   36  4      2       1    1           6       36            "
      ]
     },
     "metadata": {},
     "output_type": "display_data"
    }
   ],
   "source": [
    "head(infert)"
   ]
  },
  {
   "cell_type": "code",
   "execution_count": 17,
   "metadata": {
    "collapsed": false
   },
   "outputs": [
    {
     "data": {
      "text/plain": [
       "   education        age            parity         induced      \n",
       " 0-5yrs : 12   Min.   :21.00   Min.   :1.000   Min.   :0.0000  \n",
       " 6-11yrs:120   1st Qu.:28.00   1st Qu.:1.000   1st Qu.:0.0000  \n",
       " 12+ yrs:116   Median :31.00   Median :2.000   Median :0.0000  \n",
       "               Mean   :31.50   Mean   :2.093   Mean   :0.5726  \n",
       "               3rd Qu.:35.25   3rd Qu.:3.000   3rd Qu.:1.0000  \n",
       "               Max.   :44.00   Max.   :6.000   Max.   :2.0000  \n",
       "      case         spontaneous        stratum      pooled.stratum \n",
       " Min.   :0.0000   Min.   :0.0000   Min.   : 1.00   Min.   : 1.00  \n",
       " 1st Qu.:0.0000   1st Qu.:0.0000   1st Qu.:21.00   1st Qu.:19.00  \n",
       " Median :0.0000   Median :0.0000   Median :42.00   Median :36.00  \n",
       " Mean   :0.3347   Mean   :0.5766   Mean   :41.87   Mean   :33.58  \n",
       " 3rd Qu.:1.0000   3rd Qu.:1.0000   3rd Qu.:62.25   3rd Qu.:48.25  \n",
       " Max.   :1.0000   Max.   :2.0000   Max.   :83.00   Max.   :63.00  "
      ]
     },
     "metadata": {},
     "output_type": "display_data"
    }
   ],
   "source": [
    "summary(infert)"
   ]
  },
  {
   "cell_type": "code",
   "execution_count": 18,
   "metadata": {
    "collapsed": false
   },
   "outputs": [
    {
     "data": {
      "text/html": [
       "4.83870967741935"
      ],
      "text/latex": [
       "4.83870967741935"
      ],
      "text/markdown": [
       "4.83870967741935"
      ],
      "text/plain": [
       "[1] 4.83871"
      ]
     },
     "metadata": {},
     "output_type": "display_data"
    }
   ],
   "source": [
    "(12/(12+120+116))*100"
   ]
  },
  {
   "cell_type": "code",
   "execution_count": 19,
   "metadata": {
    "collapsed": false
   },
   "outputs": [
    {
     "data": {
      "text/html": [
       "48.3870967741936"
      ],
      "text/latex": [
       "48.3870967741936"
      ],
      "text/markdown": [
       "48.3870967741936"
      ],
      "text/plain": [
       "[1] 48.3871"
      ]
     },
     "metadata": {},
     "output_type": "display_data"
    }
   ],
   "source": [
    "(120/(12+120+116))*100"
   ]
  },
  {
   "cell_type": "code",
   "execution_count": 20,
   "metadata": {
    "collapsed": false
   },
   "outputs": [
    {
     "data": {
      "text/html": [
       "46.7741935483871"
      ],
      "text/latex": [
       "46.7741935483871"
      ],
      "text/markdown": [
       "46.7741935483871"
      ],
      "text/plain": [
       "[1] 46.77419"
      ]
     },
     "metadata": {},
     "output_type": "display_data"
    }
   ],
   "source": [
    "(116/(12+120+116))*100"
   ]
  },
  {
   "cell_type": "code",
   "execution_count": 22,
   "metadata": {
    "collapsed": false
   },
   "outputs": [
    {
     "data": {
      "text/html": [
       "100"
      ],
      "text/latex": [
       "100"
      ],
      "text/markdown": [
       "100"
      ],
      "text/plain": [
       "[1] 100"
      ]
     },
     "metadata": {},
     "output_type": "display_data"
    }
   ],
   "source": [
    "5 + 48 + 47"
   ]
  },
  {
   "cell_type": "code",
   "execution_count": 32,
   "metadata": {
    "collapsed": true
   },
   "outputs": [],
   "source": [
    "amostra_estratificada = strata(infert, c('education'), size=c(5, 48, 47), method = 'srswor')"
   ]
  },
  {
   "cell_type": "code",
   "execution_count": 33,
   "metadata": {
    "collapsed": false
   },
   "outputs": [
    {
     "data": {
      "text/html": [
       "<table>\n",
       "<thead><tr><th></th><th scope=col>education</th><th scope=col>ID_unit</th><th scope=col>Prob</th><th scope=col>Stratum</th></tr></thead>\n",
       "<tbody>\n",
       "\t<tr><th scope=row>2</th><td>0-5yrs   </td><td>  2      </td><td>0.4166667</td><td>1        </td></tr>\n",
       "\t<tr><th scope=row>85</th><td>0-5yrs   </td><td> 85      </td><td>0.4166667</td><td>1        </td></tr>\n",
       "\t<tr><th scope=row>86</th><td>0-5yrs   </td><td> 86      </td><td>0.4166667</td><td>1        </td></tr>\n",
       "\t<tr><th scope=row>87</th><td>0-5yrs   </td><td> 87      </td><td>0.4166667</td><td>1        </td></tr>\n",
       "\t<tr><th scope=row>167</th><td>0-5yrs   </td><td>167      </td><td>0.4166667</td><td>1        </td></tr>\n",
       "\t<tr><th scope=row>5</th><td>6-11yrs  </td><td>  5      </td><td>0.4000000</td><td>2        </td></tr>\n",
       "</tbody>\n",
       "</table>\n"
      ],
      "text/latex": [
       "\\begin{tabular}{r|llll}\n",
       "  & education & ID\\_unit & Prob & Stratum\\\\\n",
       "\\hline\n",
       "\t2 & 0-5yrs    &   2       & 0.4166667 & 1        \\\\\n",
       "\t85 & 0-5yrs    &  85       & 0.4166667 & 1        \\\\\n",
       "\t86 & 0-5yrs    &  86       & 0.4166667 & 1        \\\\\n",
       "\t87 & 0-5yrs    &  87       & 0.4166667 & 1        \\\\\n",
       "\t167 & 0-5yrs    & 167       & 0.4166667 & 1        \\\\\n",
       "\t5 & 6-11yrs   &   5       & 0.4000000 & 2        \\\\\n",
       "\\end{tabular}\n"
      ],
      "text/markdown": [
       "\n",
       "| <!--/--> | education | ID_unit | Prob | Stratum | \n",
       "|---|---|---|---|---|---|\n",
       "| 2 | 0-5yrs    |   2       | 0.4166667 | 1         | \n",
       "| 85 | 0-5yrs    |  85       | 0.4166667 | 1         | \n",
       "| 86 | 0-5yrs    |  86       | 0.4166667 | 1         | \n",
       "| 87 | 0-5yrs    |  87       | 0.4166667 | 1         | \n",
       "| 167 | 0-5yrs    | 167       | 0.4166667 | 1         | \n",
       "| 5 | 6-11yrs   |   5       | 0.4000000 | 2         | \n",
       "\n",
       "\n"
      ],
      "text/plain": [
       "    education ID_unit Prob      Stratum\n",
       "2   0-5yrs      2     0.4166667 1      \n",
       "85  0-5yrs     85     0.4166667 1      \n",
       "86  0-5yrs     86     0.4166667 1      \n",
       "87  0-5yrs     87     0.4166667 1      \n",
       "167 0-5yrs    167     0.4166667 1      \n",
       "5   6-11yrs     5     0.4000000 2      "
      ]
     },
     "metadata": {},
     "output_type": "display_data"
    }
   ],
   "source": [
    "head(amostra_estratificada)"
   ]
  },
  {
   "cell_type": "code",
   "execution_count": 34,
   "metadata": {
    "collapsed": false
   },
   "outputs": [
    {
     "data": {
      "text/plain": [
       "   education     ID_unit            Prob           Stratum    \n",
       " 0-5yrs : 5   Min.   :  2.00   Min.   :0.4000   Min.   :1.00  \n",
       " 6-11yrs:48   1st Qu.: 70.75   1st Qu.:0.4000   1st Qu.:2.00  \n",
       " 12+ yrs:47   Median :126.00   Median :0.4052   Median :2.00  \n",
       "              Mean   :124.64   Mean   :0.4033   Mean   :2.42  \n",
       "              3rd Qu.:182.00   3rd Qu.:0.4052   3rd Qu.:3.00  \n",
       "              Max.   :247.00   Max.   :0.4167   Max.   :3.00  "
      ]
     },
     "metadata": {},
     "output_type": "display_data"
    }
   ],
   "source": [
    "summary(amostra_estratificada)"
   ]
  },
  {
   "cell_type": "code",
   "execution_count": 28,
   "metadata": {
    "collapsed": true
   },
   "outputs": [],
   "source": [
    "library(TeachingSampling)"
   ]
  },
  {
   "cell_type": "code",
   "execution_count": 29,
   "metadata": {
    "collapsed": true
   },
   "outputs": [],
   "source": [
    "amostra_sitematica = S.SY(150, 10)"
   ]
  },
  {
   "cell_type": "code",
   "execution_count": 31,
   "metadata": {
    "collapsed": false
   },
   "outputs": [
    {
     "data": {
      "text/html": [
       "<table>\n",
       "<tbody>\n",
       "\t<tr><td>  5</td></tr>\n",
       "\t<tr><td> 15</td></tr>\n",
       "\t<tr><td> 25</td></tr>\n",
       "\t<tr><td> 35</td></tr>\n",
       "\t<tr><td> 45</td></tr>\n",
       "\t<tr><td> 55</td></tr>\n",
       "\t<tr><td> 65</td></tr>\n",
       "\t<tr><td> 75</td></tr>\n",
       "\t<tr><td> 85</td></tr>\n",
       "\t<tr><td> 95</td></tr>\n",
       "\t<tr><td>105</td></tr>\n",
       "\t<tr><td>115</td></tr>\n",
       "\t<tr><td>125</td></tr>\n",
       "\t<tr><td>135</td></tr>\n",
       "\t<tr><td>145</td></tr>\n",
       "</tbody>\n",
       "</table>\n"
      ],
      "text/latex": [
       "\\begin{tabular}{l}\n",
       "\t   5\\\\\n",
       "\t  15\\\\\n",
       "\t  25\\\\\n",
       "\t  35\\\\\n",
       "\t  45\\\\\n",
       "\t  55\\\\\n",
       "\t  65\\\\\n",
       "\t  75\\\\\n",
       "\t  85\\\\\n",
       "\t  95\\\\\n",
       "\t 105\\\\\n",
       "\t 115\\\\\n",
       "\t 125\\\\\n",
       "\t 135\\\\\n",
       "\t 145\\\\\n",
       "\\end{tabular}\n"
      ],
      "text/markdown": [
       "\n",
       "|   5 | \n",
       "|  15 | \n",
       "|  25 | \n",
       "|  35 | \n",
       "|  45 | \n",
       "|  55 | \n",
       "|  65 | \n",
       "|  75 | \n",
       "|  85 | \n",
       "|  95 | \n",
       "| 105 | \n",
       "| 115 | \n",
       "| 125 | \n",
       "| 135 | \n",
       "| 145 | \n",
       "\n",
       "\n"
      ],
      "text/plain": [
       "      [,1]\n",
       " [1,]   5 \n",
       " [2,]  15 \n",
       " [3,]  25 \n",
       " [4,]  35 \n",
       " [5,]  45 \n",
       " [6,]  55 \n",
       " [7,]  65 \n",
       " [8,]  75 \n",
       " [9,]  85 \n",
       "[10,]  95 \n",
       "[11,] 105 \n",
       "[12,] 115 \n",
       "[13,] 125 \n",
       "[14,] 135 \n",
       "[15,] 145 "
      ]
     },
     "metadata": {},
     "output_type": "display_data"
    }
   ],
   "source": [
    "amostra_sitematica"
   ]
  },
  {
   "cell_type": "code",
   "execution_count": 35,
   "metadata": {
    "collapsed": true
   },
   "outputs": [],
   "source": [
    "amostra_iris_sistematica = iris[amostra_sitematica, ]"
   ]
  },
  {
   "cell_type": "code",
   "execution_count": 36,
   "metadata": {
    "collapsed": false
   },
   "outputs": [
    {
     "data": {
      "text/html": [
       "<table>\n",
       "<thead><tr><th></th><th scope=col>Sepal.Length</th><th scope=col>Sepal.Width</th><th scope=col>Petal.Length</th><th scope=col>Petal.Width</th><th scope=col>Species</th></tr></thead>\n",
       "<tbody>\n",
       "\t<tr><th scope=row>5</th><td>5.0       </td><td>3.6       </td><td>1.4       </td><td>0.2       </td><td>setosa    </td></tr>\n",
       "\t<tr><th scope=row>15</th><td>5.8       </td><td>4.0       </td><td>1.2       </td><td>0.2       </td><td>setosa    </td></tr>\n",
       "\t<tr><th scope=row>25</th><td>4.8       </td><td>3.4       </td><td>1.9       </td><td>0.2       </td><td>setosa    </td></tr>\n",
       "\t<tr><th scope=row>35</th><td>4.9       </td><td>3.1       </td><td>1.5       </td><td>0.2       </td><td>setosa    </td></tr>\n",
       "\t<tr><th scope=row>45</th><td>5.1       </td><td>3.8       </td><td>1.9       </td><td>0.4       </td><td>setosa    </td></tr>\n",
       "\t<tr><th scope=row>55</th><td>6.5       </td><td>2.8       </td><td>4.6       </td><td>1.5       </td><td>versicolor</td></tr>\n",
       "\t<tr><th scope=row>65</th><td>5.6       </td><td>2.9       </td><td>3.6       </td><td>1.3       </td><td>versicolor</td></tr>\n",
       "\t<tr><th scope=row>75</th><td>6.4       </td><td>2.9       </td><td>4.3       </td><td>1.3       </td><td>versicolor</td></tr>\n",
       "\t<tr><th scope=row>85</th><td>5.4       </td><td>3.0       </td><td>4.5       </td><td>1.5       </td><td>versicolor</td></tr>\n",
       "\t<tr><th scope=row>95</th><td>5.6       </td><td>2.7       </td><td>4.2       </td><td>1.3       </td><td>versicolor</td></tr>\n",
       "\t<tr><th scope=row>105</th><td>6.5       </td><td>3.0       </td><td>5.8       </td><td>2.2       </td><td>virginica </td></tr>\n",
       "\t<tr><th scope=row>115</th><td>5.8       </td><td>2.8       </td><td>5.1       </td><td>2.4       </td><td>virginica </td></tr>\n",
       "\t<tr><th scope=row>125</th><td>6.7       </td><td>3.3       </td><td>5.7       </td><td>2.1       </td><td>virginica </td></tr>\n",
       "\t<tr><th scope=row>135</th><td>6.1       </td><td>2.6       </td><td>5.6       </td><td>1.4       </td><td>virginica </td></tr>\n",
       "\t<tr><th scope=row>145</th><td>6.7       </td><td>3.3       </td><td>5.7       </td><td>2.5       </td><td>virginica </td></tr>\n",
       "</tbody>\n",
       "</table>\n"
      ],
      "text/latex": [
       "\\begin{tabular}{r|lllll}\n",
       "  & Sepal.Length & Sepal.Width & Petal.Length & Petal.Width & Species\\\\\n",
       "\\hline\n",
       "\t5 & 5.0        & 3.6        & 1.4        & 0.2        & setosa    \\\\\n",
       "\t15 & 5.8        & 4.0        & 1.2        & 0.2        & setosa    \\\\\n",
       "\t25 & 4.8        & 3.4        & 1.9        & 0.2        & setosa    \\\\\n",
       "\t35 & 4.9        & 3.1        & 1.5        & 0.2        & setosa    \\\\\n",
       "\t45 & 5.1        & 3.8        & 1.9        & 0.4        & setosa    \\\\\n",
       "\t55 & 6.5        & 2.8        & 4.6        & 1.5        & versicolor\\\\\n",
       "\t65 & 5.6        & 2.9        & 3.6        & 1.3        & versicolor\\\\\n",
       "\t75 & 6.4        & 2.9        & 4.3        & 1.3        & versicolor\\\\\n",
       "\t85 & 5.4        & 3.0        & 4.5        & 1.5        & versicolor\\\\\n",
       "\t95 & 5.6        & 2.7        & 4.2        & 1.3        & versicolor\\\\\n",
       "\t105 & 6.5        & 3.0        & 5.8        & 2.2        & virginica \\\\\n",
       "\t115 & 5.8        & 2.8        & 5.1        & 2.4        & virginica \\\\\n",
       "\t125 & 6.7        & 3.3        & 5.7        & 2.1        & virginica \\\\\n",
       "\t135 & 6.1        & 2.6        & 5.6        & 1.4        & virginica \\\\\n",
       "\t145 & 6.7        & 3.3        & 5.7        & 2.5        & virginica \\\\\n",
       "\\end{tabular}\n"
      ],
      "text/markdown": [
       "\n",
       "| <!--/--> | Sepal.Length | Sepal.Width | Petal.Length | Petal.Width | Species | \n",
       "|---|---|---|---|---|---|---|---|---|---|---|---|---|---|---|\n",
       "| 5 | 5.0        | 3.6        | 1.4        | 0.2        | setosa     | \n",
       "| 15 | 5.8        | 4.0        | 1.2        | 0.2        | setosa     | \n",
       "| 25 | 4.8        | 3.4        | 1.9        | 0.2        | setosa     | \n",
       "| 35 | 4.9        | 3.1        | 1.5        | 0.2        | setosa     | \n",
       "| 45 | 5.1        | 3.8        | 1.9        | 0.4        | setosa     | \n",
       "| 55 | 6.5        | 2.8        | 4.6        | 1.5        | versicolor | \n",
       "| 65 | 5.6        | 2.9        | 3.6        | 1.3        | versicolor | \n",
       "| 75 | 6.4        | 2.9        | 4.3        | 1.3        | versicolor | \n",
       "| 85 | 5.4        | 3.0        | 4.5        | 1.5        | versicolor | \n",
       "| 95 | 5.6        | 2.7        | 4.2        | 1.3        | versicolor | \n",
       "| 105 | 6.5        | 3.0        | 5.8        | 2.2        | virginica  | \n",
       "| 115 | 5.8        | 2.8        | 5.1        | 2.4        | virginica  | \n",
       "| 125 | 6.7        | 3.3        | 5.7        | 2.1        | virginica  | \n",
       "| 135 | 6.1        | 2.6        | 5.6        | 1.4        | virginica  | \n",
       "| 145 | 6.7        | 3.3        | 5.7        | 2.5        | virginica  | \n",
       "\n",
       "\n"
      ],
      "text/plain": [
       "    Sepal.Length Sepal.Width Petal.Length Petal.Width Species   \n",
       "5   5.0          3.6         1.4          0.2         setosa    \n",
       "15  5.8          4.0         1.2          0.2         setosa    \n",
       "25  4.8          3.4         1.9          0.2         setosa    \n",
       "35  4.9          3.1         1.5          0.2         setosa    \n",
       "45  5.1          3.8         1.9          0.4         setosa    \n",
       "55  6.5          2.8         4.6          1.5         versicolor\n",
       "65  5.6          2.9         3.6          1.3         versicolor\n",
       "75  6.4          2.9         4.3          1.3         versicolor\n",
       "85  5.4          3.0         4.5          1.5         versicolor\n",
       "95  5.6          2.7         4.2          1.3         versicolor\n",
       "105 6.5          3.0         5.8          2.2         virginica \n",
       "115 5.8          2.8         5.1          2.4         virginica \n",
       "125 6.7          3.3         5.7          2.1         virginica \n",
       "135 6.1          2.6         5.6          1.4         virginica \n",
       "145 6.7          3.3         5.7          2.5         virginica "
      ]
     },
     "metadata": {},
     "output_type": "display_data"
    }
   ],
   "source": [
    "amostra_iris_sistematica"
   ]
  },
  {
   "cell_type": "code",
   "execution_count": null,
   "metadata": {
    "collapsed": true
   },
   "outputs": [],
   "source": []
  }
 ],
 "metadata": {
  "anaconda-cloud": {},
  "kernelspec": {
   "display_name": "R 3.3",
   "language": "R",
   "name": "ir33"
  },
  "language_info": {
   "codemirror_mode": "r",
   "file_extension": ".r",
   "mimetype": "text/x-r-source",
   "name": "R",
   "pygments_lexer": "r",
   "version": "3.4.1"
  }
 },
 "nbformat": 4,
 "nbformat_minor": 2
}
