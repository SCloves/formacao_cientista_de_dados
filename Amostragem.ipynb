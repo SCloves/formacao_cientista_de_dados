{
 "cells": [
  {
   "cell_type": "markdown",
   "metadata": {},
   "source": [
    "# Amostragem "
   ]
  },
  {
   "cell_type": "markdown",
   "metadata": {},
   "source": [
    "#### Amostra:\n",
    "- parte de uma população, selecionada usando alguma técnica que dê chances iguais a todos elementos da população de serem selecionados."
   ]
  },
  {
   "cell_type": "markdown",
   "metadata": {},
   "source": [
    "#### Conceitos\n",
    "- População: alvo do estudo\n",
    "- Amostra: subconjunto da população\n",
    "- Censo: pesquisa com toda a população."
   ]
  },
  {
   "cell_type": "markdown",
   "metadata": {},
   "source": [
    "#### Por que usar amostragem e não censo?\n",
    "\n",
    "- Pode ser caro ou impossível estudar toda a população (censo)"
   ]
  },
  {
   "cell_type": "markdown",
   "metadata": {},
   "source": [
    "#### É possível inferir sobre uma população usando uma amostra?\n",
    "\n",
    "- Uma amostragem feita corretamente pode representar características similares da população em que foi retirada.\n"
   ]
  },
  {
   "cell_type": "markdown",
   "metadata": {},
   "source": [
    "#### Custo da amostra\n",
    "\n",
    "- Margem de erro e Nível de Confiança\n",
    "- variação\n",
    "- podemos medir a variação esperada"
   ]
  },
  {
   "cell_type": "markdown",
   "metadata": {},
   "source": [
    "#### Principais tipos de amostragem\n",
    "\n",
    "- Aleatória símples\n",
    "- Estratificada [Stratified Sampling](https://www.youtube.com/watch?v=sYRUYJYOpG0)\n",
    "- Sistemática\n",
    "- Por unidade monetária"
   ]
  },
  {
   "cell_type": "markdown",
   "metadata": {
    "collapsed": true
   },
   "source": [
    "#### Funções no R \n",
    "\n",
    "Exemplos de funções usadas para amostragem:\n",
    "\n",
    "sample()\n",
    "\n",
    "strata()\n",
    "\n",
    "s.SY()"
   ]
  },
  {
   "cell_type": "code",
   "execution_count": null,
   "metadata": {
    "collapsed": true
   },
   "outputs": [],
   "source": []
  }
 ],
 "metadata": {
  "anaconda-cloud": {},
  "kernelspec": {
   "display_name": "R 3.3",
   "language": "R",
   "name": "ir33"
  },
  "language_info": {
   "codemirror_mode": "r",
   "file_extension": ".r",
   "mimetype": "text/x-r-source",
   "name": "R",
   "pygments_lexer": "r",
   "version": "3.4.1"
  }
 },
 "nbformat": 4,
 "nbformat_minor": 2
}
